{
  "cells": [
    {
      "cell_type": "code",
      "source": [
        "from google.colab import drive\n",
        "drive.mount('/content/drive')"
      ],
      "metadata": {
        "colab": {
          "base_uri": "https://localhost:8080/"
        },
        "id": "Fs-s7QA5wg42",
        "outputId": "9a7f3cbd-ca25-457c-92ce-b301dc08fc30"
      },
      "id": "Fs-s7QA5wg42",
      "execution_count": 1,
      "outputs": [
        {
          "output_type": "stream",
          "name": "stdout",
          "text": [
            "Drive already mounted at /content/drive; to attempt to forcibly remount, call drive.mount(\"/content/drive\", force_remount=True).\n"
          ]
        }
      ]
    },
    {
      "cell_type": "markdown",
      "id": "68f67fa5-60d7-49b2-8ba7-605d9c0b468a",
      "metadata": {
        "id": "68f67fa5-60d7-49b2-8ba7-605d9c0b468a"
      },
      "source": [
        "# Importing Libraries"
      ]
    },
    {
      "cell_type": "code",
      "source": [
        "!pip install -q langchain pypdf sentence-transformers faiss-gpu"
      ],
      "metadata": {
        "id": "qZ932iG9tCIx"
      },
      "id": "qZ932iG9tCIx",
      "execution_count": 2,
      "outputs": []
    },
    {
      "cell_type": "code",
      "execution_count": 3,
      "id": "9a72494d-25bc-44d1-b2c6-776a5f4ab014",
      "metadata": {
        "id": "9a72494d-25bc-44d1-b2c6-776a5f4ab014"
      },
      "outputs": [],
      "source": [
        "from glob import glob\n",
        "from os import path\n",
        "from langchain.document_loaders import PyPDFLoader\n",
        "import pickle\n",
        "from langchain.text_splitter import RecursiveCharacterTextSplitter"
      ]
    },
    {
      "cell_type": "markdown",
      "id": "3ef0f8bb-9798-4e2b-8ede-db5b27c352b3",
      "metadata": {
        "id": "3ef0f8bb-9798-4e2b-8ede-db5b27c352b3"
      },
      "source": [
        "# Extracting Data From Documents"
      ]
    },
    {
      "cell_type": "markdown",
      "id": "a930d017-eb9f-4e4c-9564-df4a33125ffd",
      "metadata": {
        "id": "a930d017-eb9f-4e4c-9564-df4a33125ffd"
      },
      "source": [
        "## Extracting Data"
      ]
    },
    {
      "cell_type": "code",
      "execution_count": 4,
      "id": "bcdf0bdd-a36f-4f3c-af09-70703a7e744c",
      "metadata": {
        "id": "bcdf0bdd-a36f-4f3c-af09-70703a7e744c"
      },
      "outputs": [],
      "source": [
        "# Change the data path to NVMe directory\n",
        "root_path = '/content/drive/MyDrive/Colab Notebooks/NVMe-QABot/'\n",
        "file_list = sorted(glob(path.join(root_path+'NVMe', '*.pdf')))\n",
        "page_start = [14, 5, 6, 7, 1, 5, 6]"
      ]
    },
    {
      "cell_type": "code",
      "execution_count": 5,
      "id": "1ffe0b1f-ebd6-48d7-87d8-37aa3f31052a",
      "metadata": {
        "id": "1ffe0b1f-ebd6-48d7-87d8-37aa3f31052a"
      },
      "outputs": [],
      "source": [
        "def get_pdf_data(file_list, page_start):\n",
        "    all_pages_data = []\n",
        "    for i in range(len(file_list)):\n",
        "        loader = PyPDFLoader(file_list[i])\n",
        "        pages_data = loader.load()[page_start[i]-1:]\n",
        "        all_pages_data.extend(pages_data)\n",
        "    return all_pages_data"
      ]
    },
    {
      "cell_type": "code",
      "execution_count": 6,
      "id": "57aca347-912b-48ab-b5e7-9f88794b7d5f",
      "metadata": {
        "id": "57aca347-912b-48ab-b5e7-9f88794b7d5f"
      },
      "outputs": [],
      "source": [
        "all_pages_data = get_pdf_data(file_list, page_start)"
      ]
    },
    {
      "cell_type": "markdown",
      "id": "150cc5a4-2904-4c24-af9c-16ac6361fd56",
      "metadata": {
        "id": "150cc5a4-2904-4c24-af9c-16ac6361fd56"
      },
      "source": [
        "# Data Preprocessing"
      ]
    },
    {
      "cell_type": "markdown",
      "id": "fca6764b-ad0d-42c2-9ba9-54881bed1b04",
      "metadata": {
        "id": "fca6764b-ad0d-42c2-9ba9-54881bed1b04"
      },
      "source": [
        "## Splitting in Chunks using Text Splitters"
      ]
    },
    {
      "cell_type": "code",
      "execution_count": 7,
      "id": "cd064a03-f0c1-4a3e-8798-5a4138eda4ce",
      "metadata": {
        "id": "cd064a03-f0c1-4a3e-8798-5a4138eda4ce"
      },
      "outputs": [],
      "source": [
        "from langchain.text_splitter import RecursiveCharacterTextSplitter\n",
        "\n",
        "text_splitter = RecursiveCharacterTextSplitter(chunk_size=1000, chunk_overlap=20)\n",
        "all_splits = text_splitter.split_documents(all_pages_data)"
      ]
    },
    {
      "cell_type": "markdown",
      "id": "9df46d1a-7c28-4f89-b01e-5fcb09203cb2",
      "metadata": {
        "id": "9df46d1a-7c28-4f89-b01e-5fcb09203cb2"
      },
      "source": [
        "## Creating Embeddings and Storing in Vector Store"
      ]
    },
    {
      "cell_type": "code",
      "execution_count": 8,
      "id": "3557159d-6e66-4f08-a4e7-046cf4276726",
      "metadata": {
        "id": "3557159d-6e66-4f08-a4e7-046cf4276726"
      },
      "outputs": [],
      "source": [
        "from langchain.embeddings import HuggingFaceEmbeddings\n",
        "from langchain.vectorstores import FAISS\n",
        "\n",
        "model_name = \"sentence-transformers/all-mpnet-base-v2\"\n",
        "model_kwargs = {\"device\": \"cuda\"}\n",
        "\n",
        "embeddings = HuggingFaceEmbeddings(model_name=model_name, model_kwargs=model_kwargs)\n",
        "\n",
        "# storing embeddings in the vector store\n",
        "vectorstore = FAISS.from_documents(all_splits, embeddings)"
      ]
    },
    {
      "cell_type": "markdown",
      "id": "c920a626-bd9a-41a1-a963-a0661e8e180b",
      "metadata": {
        "id": "c920a626-bd9a-41a1-a963-a0661e8e180b"
      },
      "source": [
        "## Saving and loading FAISS index"
      ]
    },
    {
      "cell_type": "code",
      "execution_count": 9,
      "id": "b3b97d41-0ebe-4e87-bfb6-068048931f66",
      "metadata": {
        "id": "b3b97d41-0ebe-4e87-bfb6-068048931f66"
      },
      "outputs": [],
      "source": [
        "vectorstore.save_local(root_path+\"faiss_index\")"
      ]
    }
  ],
  "metadata": {
    "kernelspec": {
      "display_name": "Python 3",
      "name": "python3"
    },
    "language_info": {
      "codemirror_mode": {
        "name": "ipython",
        "version": 3
      },
      "file_extension": ".py",
      "mimetype": "text/x-python",
      "name": "python",
      "nbconvert_exporter": "python",
      "pygments_lexer": "ipython3",
      "version": "3.8.10"
    },
    "colab": {
      "provenance": [],
      "gpuType": "T4"
    },
    "accelerator": "GPU"
  },
  "nbformat": 4,
  "nbformat_minor": 5
}